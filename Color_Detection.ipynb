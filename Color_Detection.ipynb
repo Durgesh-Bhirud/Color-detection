{
  "nbformat": 4,
  "nbformat_minor": 0,
  "metadata": {
    "colab": {
      "provenance": []
    },
    "kernelspec": {
      "name": "python3",
      "display_name": "Python 3"
    },
    "language_info": {
      "name": "python"
    }
  },
  "cells": [
    {
      "cell_type": "code",
      "execution_count": null,
      "metadata": {
        "id": "gjfHN1c9AScU"
      },
      "outputs": [],
      "source": [
        "import pandas as pd\n",
        "import numpy as np\n",
        "import cv2\n",
        "import argparse\n",
        "\n",
        "ap = argparse.ArgumentParser()\n",
        "ap.add_argument('-i', '--image', required=True, help=\"Image Path\")\n",
        "args = vars(ap.parse_args())\n",
        "img_path = args['image']\n",
        "#Reading image with opencv\n",
        "img = cv2.imread(img_path)\n",
        "\n",
        "clicked==False\n",
        "r = g= b = xpos = ypos = 0\n",
        "#Reading csv file with pandas and giving names to each column\n",
        "index=[\"color\",\"color_name\",\"hex\",\"R\",\"G\",\"B\"]\n",
        "csv = pd.read_csv('colors.csv', names=index, header=None)\n",
        "\n",
        "def getColorName(R,G,B):\n",
        "    minimum = 10000\n",
        "    for i in range(len(csv)):\n",
        "        d = abs(R- int(csv.loc[i,\"R\"])) + abs(G- int(csv.loc[i,\"G\"]))+ abs(B- int(csv.loc[i,\"B\"]))\n",
        "        if(d<=minimum):\n",
        "            minimum = d\n",
        "            cname = csv.loc[i,\"color_name\"]\n",
        "    return cname\n",
        "\n",
        "def draw_function(event, x,y,flags,param):\n",
        "    if event == cv2.EVENT_LBUTTONDBLCLK:\n",
        "        global b,g,r,xpos,ypos, clicked\n",
        "        clicked = True\n",
        "        xpos = x\n",
        "        ypos = y\n",
        "        b,g,r = img[y,x]\n",
        "        b = int(b)\n",
        "        g = int(g)\n",
        "        r = int(r)\n",
        "\n",
        "cv2.namedWindow('image')\n",
        "cv2.setMouseCallback('image',draw_function)\n",
        "\n",
        "\n",
        "\n",
        "while(1):\n",
        "    cv2.imshow(\"image\",img)\n",
        "    if (clicked):\n",
        "        #cv2.rectangle(image, startpoint, endpoint, color, thickness) -1 thickness fills rectangle entirely\n",
        "        cv2.rectangle(img,(20,20), (750,60), (b,g,r), -1)\n",
        "        #Creating text string to display ( Color name and RGB values )\n",
        "        text = getColorName(r,g,b) + ' R='+ str(r) + ' G='+ str(g) + ' B='+ str(b)\n",
        "        #cv2.putText(img,text,start,font(0-7), fontScale, color, thickness, lineType, (optional bottomLeft bool) )\n",
        "        cv2.putText(img, text,(50,50),2,0.8,(255,255,255),2,cv2.LINE_AA)\n",
        "  #For very light colours we will display text in black colour\n",
        "        if(r+g+b>=600):\n",
        "            cv2.putText(img, text,(50,50),2,0.8,(0,0,0),2,cv2.LINE_AA)\n",
        "        clicked=False\n",
        "    #Break the loop when user hits 'esc' key\n",
        "    if cv2.waitKey(20) & 0xFF ==27:\n",
        "        break\n",
        "cv2.destroyAllWindows()\n",
        "\n"
      ]
    }
  ]
}